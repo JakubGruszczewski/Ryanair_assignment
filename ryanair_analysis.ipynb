{
 "cells": [
  {
   "metadata": {
    "ExecuteTime": {
     "end_time": "2025-05-30T16:40:02.906323Z",
     "start_time": "2025-05-30T16:40:02.894746Z"
    }
   },
   "cell_type": "code",
   "source": [
    "import pandas as pd\n",
    "from sklearn.model_selection import train_test_split\n",
    "from sklearn.ensemble import RandomForestRegressor\n",
    "from sklearn.metrics import mean_squared_error\n",
    "import numpy as np\n",
    "import joblib\n",
    "from sklearn.linear_model import LinearRegression"
   ],
   "id": "a8767c162292072c",
   "outputs": [],
   "execution_count": 30
  },
  {
   "metadata": {},
   "cell_type": "code",
   "outputs": [],
   "execution_count": null,
   "source": [
    "train = pd.read_excel(\"training.xlsx\", na_values=\"(null)\")\n",
    "valid = pd.read_excel(\"validation.xlsx\", na_values=\"(null)\")\n",
    "\n",
    "# checking data quality\n",
    "print(train.isnull().sum())\n",
    "print(valid.isnull().sum())\n",
    "print(train['Route'].count())\n",
    "print(valid['Route'].count())"
   ],
   "id": "c73026cb5cf406e2"
  },
  {
   "metadata": {
    "ExecuteTime": {
     "end_time": "2025-05-30T15:46:59.371806Z",
     "start_time": "2025-05-30T15:46:59.340213Z"
    }
   },
   "cell_type": "code",
   "outputs": [],
   "execution_count": 4,
   "source": [
    "# fixing the dataset, actualTOW is our main measure so we cannot just use aprox of it\n",
    "train = train.rename(columns={\"FLownPassengers\": \"FlownPassengers\"})\n",
    "valid = valid.rename(columns={\"FLownPassengers\": \"FlownPassengers\"})\n",
    "\n",
    "train = train.dropna(subset=[\"ActualTOW\"])"
   ],
   "id": "b2dcf69604d80502"
  },
  {
   "metadata": {
    "ExecuteTime": {
     "end_time": "2025-05-30T16:14:10.864640Z",
     "start_time": "2025-05-30T16:14:10.218319Z"
    }
   },
   "cell_type": "code",
   "source": [
    "# mean for the connections with historical data, global mean for all the others\n",
    "global_mean = round(train[\"FlownPassengers\"].mean())\n",
    "\n",
    "\n",
    "def passengers_filling(row):\n",
    "    if pd.notnull(row[\"FlownPassengers\"]):\n",
    "        return row[\"FlownPassengers\"]\n",
    "\n",
    "    subset = train[\n",
    "            (train[\"DepartureAirport\"] == row[\"DepartureAirport\"]) &\n",
    "            (train[\"ArrivalAirport\"] == row[\"ArrivalAirport\"]) &\n",
    "            (train[\"FlownPassengers\"].notnull())\n",
    "                    ][\"FlownPassengers\"]\n",
    "\n",
    "    if len(subset) == 0:\n",
    "        return global_mean\n",
    "\n",
    "    return round(subset.mean())\n",
    "\n",
    "train[\"FlownPassengers\"] = train.apply(passengers_filling, axis=1)"
   ],
   "id": "935b0e07f26f2214",
   "outputs": [],
   "execution_count": 7
  },
  {
   "metadata": {
    "ExecuteTime": {
     "end_time": "2025-05-30T16:14:27.183555Z",
     "start_time": "2025-05-30T16:14:27.167731Z"
    }
   },
   "cell_type": "code",
   "source": [
    "# creating data to fill nulls\n",
    "avg_bag_weight = train[\"FlightBagsWeight\"].sum() / train[\"BagsCount\"].sum()\n",
    "print(avg_bag_weight)\n",
    "\n",
    "avg_bag_count_per_passenger = train.loc[train[\"BagsCount\"].notnull(), \"BagsCount\"].sum() / train.loc[train[\"BagsCount\"].notnull(), \"FlownPassengers\"].sum()\n",
    "\n",
    "print(avg_bag_count_per_passenger)"
   ],
   "id": "a06fb576b1dcf1f7",
   "outputs": [
    {
     "name": "stdout",
     "output_type": "stream",
     "text": [
      "12.54126762796408\n",
      "0.27114484948571244\n"
     ]
    }
   ],
   "execution_count": 8
  },
  {
   "metadata": {
    "ExecuteTime": {
     "end_time": "2025-05-30T16:14:32.464807Z",
     "start_time": "2025-05-30T16:14:32.453173Z"
    }
   },
   "cell_type": "code",
   "source": [
    "# filling the nulls with estimations - might be a better idea to just remove that data, since some of them are with unusual routes (e.g. destination and departure airports are the same one, like PIK-PIK)\n",
    "train.loc[train[\"BagsCount\"].isnull(), \"BagsCount\"] = (\n",
    "    train.loc[train[\"BagsCount\"].isnull(), \"FlownPassengers\"] * avg_bag_count_per_passenger).round()\n",
    "\n",
    "train.loc[train[\"FlightBagsWeight\"].isnull(), \"FlightBagsWeight\"] = (\n",
    "    train.loc[train[\"FlightBagsWeight\"].isnull(), \"BagsCount\"] * avg_bag_weight\n",
    ").round()\n"
   ],
   "id": "d3adaed84e954552",
   "outputs": [],
   "execution_count": 9
  },
  {
   "metadata": {
    "ExecuteTime": {
     "end_time": "2025-05-30T16:15:44.294306Z",
     "start_time": "2025-05-30T16:15:44.282629Z"
    }
   },
   "cell_type": "code",
   "source": [
    "print(train.isnull().sum())\n",
    "print(valid.isnull().sum())"
   ],
   "id": "7d17844848726536",
   "outputs": [
    {
     "name": "stdout",
     "output_type": "stream",
     "text": [
      "DepartureDate       0\n",
      "DepartureYear       0\n",
      "DepartureMonth      0\n",
      "DepartureDay        0\n",
      "FlightNumber        0\n",
      "DepartureAirport    0\n",
      "ArrivalAirport      0\n",
      "Route               0\n",
      "ActualFlightTime    0\n",
      "ActualTotalFuel     0\n",
      "ActualTOW           0\n",
      "FlownPassengers     0\n",
      "BagsCount           0\n",
      "FlightBagsWeight    0\n",
      "dtype: int64\n",
      "DepartureDate       0\n",
      "DepartureYear       0\n",
      "DepartureMonth      0\n",
      "DepartureDay        0\n",
      "FlightNumber        0\n",
      "DepartureAirport    0\n",
      "ArrivalAirport      0\n",
      "Route               0\n",
      "ActualFlightTime    0\n",
      "ActualTotalFuel     0\n",
      "FlownPassengers     9\n",
      "BagsCount           9\n",
      "FlightBagsWeight    9\n",
      "dtype: int64\n"
     ]
    }
   ],
   "execution_count": 14
  },
  {
   "metadata": {
    "ExecuteTime": {
     "end_time": "2025-05-30T16:15:41.503817Z",
     "start_time": "2025-05-30T16:15:41.487756Z"
    }
   },
   "cell_type": "code",
   "source": [
    "# filling the nulls - same as in the train dataset\n",
    "valid.loc[valid[\"BagsCount\"].isnull(), \"BagsCount\"] = (\n",
    "    valid.loc[valid[\"BagsCount\"].isnull(), \"FlownPassengers\"] * avg_bag_count_per_passenger\n",
    ").round()\n",
    "\n",
    "valid.loc[valid[\"FlightBagsWeight\"].isnull(), \"FlightBagsWeight\"] = (\n",
    "    valid.loc[valid[\"FlightBagsWeight\"].isnull(), \"BagsCount\"] * avg_bag_weight\n",
    ").round()"
   ],
   "id": "f995012ef7bdc31e",
   "outputs": [],
   "execution_count": 13
  },
  {
   "metadata": {
    "ExecuteTime": {
     "end_time": "2025-05-30T16:17:21.022992Z",
     "start_time": "2025-05-30T16:17:20.767870Z"
    }
   },
   "cell_type": "code",
   "source": [
    "# empty plane should weight about ~41 000 kg\n",
    "import matplotlib.pyplot as plt\n",
    "\n",
    "train[\"ActualTOW\"] = pd.to_numeric(train[\"ActualTOW\"], errors='coerce')\n",
    "train[\"ActualTotalFuel\"] = pd.to_numeric(train[\"ActualTotalFuel\"], errors='coerce')\n",
    "train[\"FlightBagsWeight\"] = pd.to_numeric(train[\"FlightBagsWeight\"], errors='coerce')\n",
    "train[\"FlownPassengers\"] = pd.to_numeric(train[\"FlownPassengers\"], errors='coerce')\n",
    "\n",
    "train[\"EmptyPlane\"] = train[\"ActualTOW\"] - train[\"ActualTotalFuel\"] - train[\"FlightBagsWeight\"] - ((train[\"FlownPassengers\"]+5) * 94) - 300 - 1400\n",
    "# weight of an empty plane = weight - fuel burnt - luggage weight - ((passengers + crew) * (ESA weight + personal baggage)) - additional fuel - extras (catering etc.)\n",
    "\n",
    "plt.hist(train[\"EmptyPlane\"].dropna(), bins=100, color='steelblue', edgecolor='black')\n",
    "plt.title(\"empty plane's weight\")\n",
    "plt.xlabel(\"KG\")\n",
    "plt.ylabel(\"Flights number\")\n",
    "plt.grid(True)\n",
    "plt.show()\n"
   ],
   "id": "d86cfb60dc6f77ff",
   "outputs": [
    {
     "data": {
      "text/plain": [
       "<Figure size 640x480 with 1 Axes>"
      ],
      "image/png": "[encoded data removed]"
     },
     "metadata": {},
     "output_type": "display_data"
    }
   ],
   "execution_count": 17
  },
  {
   "metadata": {
    "ExecuteTime": {
     "end_time": "2025-05-30T16:28:48.346038Z",
     "start_time": "2025-05-30T16:28:43.369490Z"
    }
   },
   "cell_type": "code",
   "source": [
    "# i am not using this model since this isnt the best solution (RMSE comparison)\n",
    "train_clean = train.dropna(subset=[\"ActualTOW\"])\n",
    "train_clean[\"FlownPassengers\"] += 5\n",
    "train_clean[\"ActualTotalFuel\"] += 1400\n",
    "\n",
    "features = [\n",
    "    \"FlownPassengers\",\n",
    "    \"FlightBagsWeight\",\n",
    "    \"ActualTotalFuel\"\n",
    "]\n",
    "\n",
    "X = train_clean[features]\n",
    "y = train_clean[\"ActualTOW\"]\n",
    "X_train, X_val, y_train, y_val = train_test_split(X, y, test_size=0.2, random_state=42)\n",
    "model = RandomForestRegressor(n_estimators=100, random_state=42)\n",
    "model.fit(X_train, y_train)\n",
    "\n",
    "y_pred = model.predict(X_val)\n",
    "rmse = np.sqrt(mean_squared_error(y_val, y_pred))\n",
    "print(f\"RMSE: {rmse:.2f} kg\")\n"
   ],
   "id": "b908be13e6390215",
   "outputs": [
    {
     "name": "stdout",
     "output_type": "stream",
     "text": [
      "RMSE: 1183.51 kg\n"
     ]
    }
   ],
   "execution_count": 25
  },
  {
   "metadata": {
    "ExecuteTime": {
     "end_time": "2025-05-30T16:28:48.682653Z",
     "start_time": "2025-05-30T16:28:48.655074Z"
    }
   },
   "cell_type": "code",
   "source": [
    "# i am not using this model since this isnt the best solution (RMSE comparison)\n",
    "train_clean[\"FlownPassengers\"] += 5\n",
    "train_clean[\"ActualTotalFuel\"] += 1400\n",
    "\n",
    "features = [\"FlownPassengers\", \"ActualTotalFuel\", \"FlightBagsWeight\"]\n",
    "target = \"ActualTOW\"\n",
    "\n",
    "X = train_clean[features]\n",
    "y = train_clean[target]\n",
    "\n",
    "X_train, X_val, y_train, y_val = train_test_split(X, y, test_size=0.2, random_state=42)\n",
    "\n",
    "model = LinearRegression()\n",
    "model.fit(X_train, y_train)\n",
    "y_pred = model.predict(X_val)\n",
    "rmse = np.sqrt(mean_squared_error(y_val, y_pred))\n",
    "print(f\"RMSE: {rmse:.2f} kg\")"
   ],
   "id": "7e56eecce4ea20db",
   "outputs": [
    {
     "name": "stdout",
     "output_type": "stream",
     "text": [
      "RMSE: 1129.38 kg\n"
     ]
    }
   ],
   "execution_count": 26
  },
  {
   "metadata": {
    "ExecuteTime": {
     "end_time": "2025-05-30T16:40:14.936664Z",
     "start_time": "2025-05-30T16:40:11.925635Z"
    }
   },
   "cell_type": "code",
   "source": [
    "train_clean = train.copy()\n",
    "train_clean[\"FlownPassengers\"] += 5\n",
    "train_clean[\"ActualTotalFuel\"] += 1400\n",
    "\n",
    "features = [\"ActualFlightTime\", \"FlownPassengers\", \"ActualTotalFuel\", \"FlightBagsWeight\"]\n",
    "target = \"ActualTOW\"\n",
    "\n",
    "X = train_clean[features]\n",
    "y = train_clean[target]\n",
    "\n",
    "X_train, X_val, y_train, y_val = train_test_split(X, y, test_size=0.2, random_state=42)\n",
    "\n",
    "model = RandomForestRegressor(n_estimators=100,random_state=42,\n",
    "                              max_depth=10, min_samples_split=2, min_samples_leaf=1)\n",
    "model.fit(X_train, y_train)\n",
    "\n",
    "y_pred = model.predict(X_val)\n",
    "rmse = np.sqrt(mean_squared_error(y_val, y_pred))\n",
    "print(f\"RMSE for RandomForestRegressor: {rmse:.2f} kg\")\n",
    "\n",
    "importances = model.feature_importances_\n",
    "feature_importance_df = pd.DataFrame({'feature': features, 'importance': importances})\n",
    "feature_importance_df = feature_importance_df.sort_values(by='importance', ascending=False)\n",
    "\n",
    "print(\"Features importance (Random Forest Solution):\")\n",
    "print(feature_importance_df)\n",
    "\n",
    "joblib.dump(model, \"random_forest_model.pkl\")"
   ],
   "id": "d6fb7e0847000077",
   "outputs": [
    {
     "name": "stdout",
     "output_type": "stream",
     "text": [
      "RMSE for RandomForestRegressor: 1023.50 kg\n",
      "Features importance (Random Forest Solution):\n",
      "            feature  importance\n",
      "2   ActualTotalFuel    0.681983\n",
      "1   FlownPassengers    0.278348\n",
      "0  ActualFlightTime    0.029328\n",
      "3  FlightBagsWeight    0.010340\n"
     ]
    },
    {
     "data": {
      "text/plain": [
       "['random_forest_model.pkl']"
      ]
     },
     "execution_count": 31,
     "metadata": {},
     "output_type": "execute_result"
    }
   ],
   "execution_count": 31
  },
  {
   "metadata": {
    "ExecuteTime": {
     "end_time": "2025-05-30T16:49:13.167775Z",
     "start_time": "2025-05-30T16:49:13.078642Z"
    }
   },
   "cell_type": "code",
   "source": [
    "import pandas as pd\n",
    "import joblib\n",
    "\n",
    "valid = valid.rename(columns={\"FLownPassengers\": \"FlownPassengers\"})\n",
    "\n",
    "valid[\"FlownPassengers\"] += 5\n",
    "valid[\"ActualTotalFuel\"] += 1400\n",
    "\n",
    "features = [\"ActualFlightTime\", \"FlownPassengers\", \"ActualTotalFuel\", \"FlightBagsWeight\"]\n",
    "X_valid = valid[features]\n",
    "model = joblib.load(\"random_forest_model.pkl\")\n",
    "\n",
    "valid[\"ActualTOW\"] = model.predict(X_valid)\n",
    "valid.to_csv(\"validation_with_predictions.csv\", index=False)"
   ],
   "id": "ee748f496f2963c",
   "outputs": [],
   "execution_count": 32
  },
  {
   "metadata": {
    "ExecuteTime": {
     "end_time": "2025-05-30T16:49:18.215046Z",
     "start_time": "2025-05-30T16:49:18.197486Z"
    }
   },
   "cell_type": "code",
   "source": "valid",
   "id": "e4fa488d42cb7978",
   "outputs": [
    {
     "data": {
      "text/plain": [
       "     DepartureDate  DepartureYear  DepartureMonth  DepartureDay  FlightNumber  \\\n",
       "0       2016-01-11           2016              11             1          6003   \n",
       "1       2016-01-11           2016              11             1          6004   \n",
       "2       2016-01-11           2016              11             1          6542   \n",
       "3       2016-01-11           2016              11             1          6541   \n",
       "4       2016-01-11           2016              11             1          5542   \n",
       "...            ...            ...             ...           ...           ...   \n",
       "1873    2016-01-11           2016              11             1          2062   \n",
       "1874    2016-01-11           2016              11             1          6423   \n",
       "1875    2016-01-11           2016              11             1          6422   \n",
       "1876    2016-01-11           2016              11             1          4316   \n",
       "1877    2016-01-11           2016              11             1          4315   \n",
       "\n",
       "     DepartureAirport ArrivalAirport    Route  ActualFlightTime  \\\n",
       "0                 MRS            BES  MRS-BES                84   \n",
       "1                 BES            MRS  BES-MRS                86   \n",
       "2                 MRS            STN  MRS-STN               100   \n",
       "3                 STN            MRS  STN-MRS               100   \n",
       "4                 STN            REU  STN-REU               112   \n",
       "...               ...            ...      ...               ...   \n",
       "1873              PMI            MAD  PMI-MAD                60   \n",
       "1874              BLQ            VLC  BLQ-VLC                99   \n",
       "1875              VLC            BLQ  VLC-BLQ               104   \n",
       "1876              BRI            BLQ  BRI-BLQ                59   \n",
       "1877              BLQ            BRI  BLQ-BRI                60   \n",
       "\n",
       "      ActualTotalFuel  FlownPassengers  BagsCount  FlightBagsWeight  \\\n",
       "0                5030            190.0       43.0             560.0   \n",
       "1                5090            193.0       51.0             640.0   \n",
       "2                5790            173.0       55.0             720.0   \n",
       "3                6090            190.0       35.0             460.0   \n",
       "4                6300            172.0       31.0             400.0   \n",
       "...               ...              ...        ...               ...   \n",
       "1873             4175            178.0       12.0             160.0   \n",
       "1874             5520            188.0       21.0             270.0   \n",
       "1875             5630            187.0       31.0             400.0   \n",
       "1876             4071            174.0       10.0             130.0   \n",
       "1877             3860            181.0        7.0              90.0   \n",
       "\n",
       "         ActualTOW  \n",
       "0     64932.988292  \n",
       "1     64851.749829  \n",
       "2     64751.883048  \n",
       "3     67107.865703  \n",
       "4     65258.678877  \n",
       "...            ...  \n",
       "1873  63232.376509  \n",
       "1874  65275.584414  \n",
       "1875  65293.592928  \n",
       "1876  63017.948677  \n",
       "1877  63115.802880  \n",
       "\n",
       "[1878 rows x 14 columns]"
      ],
      "text/html": [
       "<div>\n",
       "<style scoped>\n",
       "    .dataframe tbody tr th:only-of-type {\n",
       "        vertical-align: middle;\n",
       "    }\n",
       "\n",
       "    .dataframe tbody tr th {\n",
       "        vertical-align: top;\n",
       "    }\n",
       "\n",
       "    .dataframe thead th {\n",
       "        text-align: right;\n",
       "    }\n",
       "</style>\n",
       "<table border=\"1\" class=\"dataframe\">\n",
       "  <thead>\n",
       "    <tr style=\"text-align: right;\">\n",
       "      <th></th>\n",
       "      <th>DepartureDate</th>\n",
       "      <th>DepartureYear</th>\n",
       "      <th>DepartureMonth</th>\n",
       "      <th>DepartureDay</th>\n",
       "      <th>FlightNumber</th>\n",
       "      <th>DepartureAirport</th>\n",
       "      <th>ArrivalAirport</th>\n",
       "      <th>Route</th>\n",
       "      <th>ActualFlightTime</th>\n",
       "      <th>ActualTotalFuel</th>\n",
       "      <th>FlownPassengers</th>\n",
       "      <th>BagsCount</th>\n",
       "      <th>FlightBagsWeight</th>\n",
       "      <th>ActualTOW</th>\n",
       "    </tr>\n",
       "  </thead>\n",
       "  <tbody>\n",
       "    <tr>\n",
       "      <th>0</th>\n",
       "      <td>2016-01-11</td>\n",
       "      <td>2016</td>\n",
       "      <td>11</td>\n",
       "      <td>1</td>\n",
       "      <td>6003</td>\n",
       "      <td>MRS</td>\n",
       "      <td>BES</td>\n",
       "      <td>MRS-BES</td>\n",
       "      <td>84</td>\n",
       "      <td>5030</td>\n",
       "      <td>190.0</td>\n",
       "      <td>43.0</td>\n",
       "      <td>560.0</td>\n",
       "      <td>64932.988292</td>\n",
       "    </tr>\n",
       "    <tr>\n",
       "      <th>1</th>\n",
       "      <td>2016-01-11</td>\n",
       "      <td>2016</td>\n",
       "      <td>11</td>\n",
       "      <td>1</td>\n",
       "      <td>6004</td>\n",
       "      <td>BES</td>\n",
       "      <td>MRS</td>\n",
       "      <td>BES-MRS</td>\n",
       "      <td>86</td>\n",
       "      <td>5090</td>\n",
       "      <td>193.0</td>\n",
       "      <td>51.0</td>\n",
       "      <td>640.0</td>\n",
       "      <td>64851.749829</td>\n",
       "    </tr>\n",
       "    <tr>\n",
       "      <th>2</th>\n",
       "      <td>2016-01-11</td>\n",
       "      <td>2016</td>\n",
       "      <td>11</td>\n",
       "      <td>1</td>\n",
       "      <td>6542</td>\n",
       "      <td>MRS</td>\n",
       "      <td>STN</td>\n",
       "      <td>MRS-STN</td>\n",
       "      <td>100</td>\n",
       "      <td>5790</td>\n",
       "      <td>173.0</td>\n",
       "      <td>55.0</td>\n",
       "      <td>720.0</td>\n",
       "      <td>64751.883048</td>\n",
       "    </tr>\n",
       "    <tr>\n",
       "      <th>3</th>\n",
       "      <td>2016-01-11</td>\n",
       "      <td>2016</td>\n",
       "      <td>11</td>\n",
       "      <td>1</td>\n",
       "      <td>6541</td>\n",
       "      <td>STN</td>\n",
       "      <td>MRS</td>\n",
       "      <td>STN-MRS</td>\n",
       "      <td>100</td>\n",
       "      <td>6090</td>\n",
       "      <td>190.0</td>\n",
       "      <td>35.0</td>\n",
       "      <td>460.0</td>\n",
       "      <td>67107.865703</td>\n",
       "    </tr>\n",
       "    <tr>\n",
       "      <th>4</th>\n",
       "      <td>2016-01-11</td>\n",
       "      <td>2016</td>\n",
       "      <td>11</td>\n",
       "      <td>1</td>\n",
       "      <td>5542</td>\n",
       "      <td>STN</td>\n",
       "      <td>REU</td>\n",
       "      <td>STN-REU</td>\n",
       "      <td>112</td>\n",
       "      <td>6300</td>\n",
       "      <td>172.0</td>\n",
       "      <td>31.0</td>\n",
       "      <td>400.0</td>\n",
       "      <td>65258.678877</td>\n",
       "    </tr>\n",
       "    <tr>\n",
       "      <th>...</th>\n",
       "      <td>...</td>\n",
       "      <td>...</td>\n",
       "      <td>...</td>\n",
       "      <td>...</td>\n",
       "      <td>...</td>\n",
       "      <td>...</td>\n",
       "      <td>...</td>\n",
       "      <td>...</td>\n",
       "      <td>...</td>\n",
       "      <td>...</td>\n",
       "      <td>...</td>\n",
       "      <td>...</td>\n",
       "      <td>...</td>\n",
       "      <td>...</td>\n",
       "    </tr>\n",
       "    <tr>\n",
       "      <th>1873</th>\n",
       "      <td>2016-01-11</td>\n",
       "      <td>2016</td>\n",
       "      <td>11</td>\n",
       "      <td>1</td>\n",
       "      <td>2062</td>\n",
       "      <td>PMI</td>\n",
       "      <td>MAD</td>\n",
       "      <td>PMI-MAD</td>\n",
       "      <td>60</td>\n",
       "      <td>4175</td>\n",
       "      <td>178.0</td>\n",
       "      <td>12.0</td>\n",
       "      <td>160.0</td>\n",
       "      <td>63232.376509</td>\n",
       "    </tr>\n",
       "    <tr>\n",
       "      <th>1874</th>\n",
       "      <td>2016-01-11</td>\n",
       "      <td>2016</td>\n",
       "      <td>11</td>\n",
       "      <td>1</td>\n",
       "      <td>6423</td>\n",
       "      <td>BLQ</td>\n",
       "      <td>VLC</td>\n",
       "      <td>BLQ-VLC</td>\n",
       "      <td>99</td>\n",
       "      <td>5520</td>\n",
       "      <td>188.0</td>\n",
       "      <td>21.0</td>\n",
       "      <td>270.0</td>\n",
       "      <td>65275.584414</td>\n",
       "    </tr>\n",
       "    <tr>\n",
       "      <th>1875</th>\n",
       "      <td>2016-01-11</td>\n",
       "      <td>2016</td>\n",
       "      <td>11</td>\n",
       "      <td>1</td>\n",
       "      <td>6422</td>\n",
       "      <td>VLC</td>\n",
       "      <td>BLQ</td>\n",
       "      <td>VLC-BLQ</td>\n",
       "      <td>104</td>\n",
       "      <td>5630</td>\n",
       "      <td>187.0</td>\n",
       "      <td>31.0</td>\n",
       "      <td>400.0</td>\n",
       "      <td>65293.592928</td>\n",
       "    </tr>\n",
       "    <tr>\n",
       "      <th>1876</th>\n",
       "      <td>2016-01-11</td>\n",
       "      <td>2016</td>\n",
       "      <td>11</td>\n",
       "      <td>1</td>\n",
       "      <td>4316</td>\n",
       "      <td>BRI</td>\n",
       "      <td>BLQ</td>\n",
       "      <td>BRI-BLQ</td>\n",
       "      <td>59</td>\n",
       "      <td>4071</td>\n",
       "      <td>174.0</td>\n",
       "      <td>10.0</td>\n",
       "      <td>130.0</td>\n",
       "      <td>63017.948677</td>\n",
       "    </tr>\n",
       "    <tr>\n",
       "      <th>1877</th>\n",
       "      <td>2016-01-11</td>\n",
       "      <td>2016</td>\n",
       "      <td>11</td>\n",
       "      <td>1</td>\n",
       "      <td>4315</td>\n",
       "      <td>BLQ</td>\n",
       "      <td>BRI</td>\n",
       "      <td>BLQ-BRI</td>\n",
       "      <td>60</td>\n",
       "      <td>3860</td>\n",
       "      <td>181.0</td>\n",
       "      <td>7.0</td>\n",
       "      <td>90.0</td>\n",
       "      <td>63115.802880</td>\n",
       "    </tr>\n",
       "  </tbody>\n",
       "</table>\n",
       "<p>1878 rows × 14 columns</p>\n",
       "</div>"
      ]
     },
     "execution_count": 33,
     "metadata": {},
     "output_type": "execute_result"
    }
   ],
   "execution_count": 33
  },
  {
   "metadata": {},
   "cell_type": "code",
   "outputs": [],
   "execution_count": null,
   "source": "",
   "id": "67399e36f689cbe0"
  }
 ],
 "metadata": {
  "kernelspec": {
   "display_name": "Python 3",
   "language": "python",
   "name": "python3"
  },
  "language_info": {
   "codemirror_mode": {
    "name": "ipython",
    "version": 2
   },
   "file_extension": ".py",
   "mimetype": "text/x-python",
   "name": "python",
   "nbconvert_exporter": "python",
   "pygments_lexer": "ipython2",
   "version": "2.7.6"
  }
 },
 "nbformat": 4,
 "nbformat_minor": 5
}
